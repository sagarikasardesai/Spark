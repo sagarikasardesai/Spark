{
 "cells": [
  {
   "cell_type": "code",
   "execution_count": 5,
   "id": "195761e4",
   "metadata": {},
   "outputs": [],
   "source": [
    "import nltk\n",
    "import re\n",
    "from nltk.corpus import stopwords\n",
    "from nltk.stem.porter import PorterStemmer\n",
    "from nltk.stem import WordNetLemmatizer"
   ]
  },
  {
   "cell_type": "code",
   "execution_count": 4,
   "id": "fc3f8c52",
   "metadata": {},
   "outputs": [],
   "source": [
    "text = \"\"\" While working as the companion to a rich American woman on holiday in Monte Carlo, the unnamed narrator, \n",
    "a naïve young woman in her early 20s, becomes acquainted with a wealthy Englishman, Maxim de Winter, a \n",
    "42-year-old widower. After a fortnight of courtship, she agrees to marry him and, after the wedding and honeymoon, \n",
    "accompanies him to his mansion in Cornwall, the beautiful estate Manderley.\n",
    "\n",
    "Mrs Danvers, the sinister housekeeper, was profoundly devoted to the first Mrs de Winter, Rebecca, who died in a \n",
    "sailing accident about a year before Maxim and the second Mrs de Winter met. She continually attempts to undermine \n",
    "the narrator psychologically, subtly suggesting to her that she will never attain the beauty, urbanity, and charm \n",
    "her predecessor possessed. Whenever the narrator attempts to make changes at Manderley, Mrs Danvers describes how \n",
    "Rebecca ran it when she was alive. Cowed by Mrs Danvers' imposing manner and the other members of West Country \n",
    "society's unwavering reverence for Rebecca, the narrator becomes isolated.\n",
    "\n",
    "The narrator is soon convinced that Maxim regrets his impetuous decision to marry her and is still deeply in love \n",
    "with the seemingly perfect Rebecca. In an attempt to please him, she revives the Manderley costume ball, a custom \n",
    "Rebecca had instated, with the help of Mrs Danvers. On her suggestion, the narrator wears a replica of the dress \n",
    "shown in a portrait of one of the house's former inhabitants, ignorant of the fact that Rebecca had worn the same \n",
    "costume to much acclaim shortly before her death. When the narrator enters the hall and Maxim sees the dress, he \n",
    "angrily orders her to change.\n",
    "\n",
    "Shortly after the ball, Mrs Danvers reveals her contempt for the narrator, believing she is trying to replace \n",
    "Rebecca, and reveals her deep, unhealthy obsession with the dead woman. Mrs Danvers tries to get the narrator to \n",
    "commit suicide by encouraging her to jump out of the window. However, she is interrupted before the narrator does \n",
    "so by the disturbance caused by a nearby shipwreck. A diver investigating the wrecked ship's hull condition also \n",
    "discovers the remains of Rebecca's sailing boat, with her decomposed body still on board, despite Maxim having \n",
    "identified another body that had washed ashore shortly after Rebecca's death.\n",
    "\n",
    "This discovery causes Maxim to confess to the narrator that his marriage to Rebecca was a sham. Rebecca, Maxim \n",
    "reveals, was a cruel and selfish woman who manipulated everyone around her into believing her to be the perfect \n",
    "wife and a paragon of virtue. On the night of her death, she told Maxim that she was pregnant with another man's \n",
    "child, which she would raise under the pretense that it was Maxim's, and he would be powerless to stop her. In a \n",
    "rage Maxim shot and killed her. He then disposed of her body by placing it in her boat and sinking it at sea. The \n",
    "narrator is relieved to hear that Maxim has always loved her and never Rebecca.\n",
    "\n",
    "Rebecca's boat is raised, and it is discovered to have been deliberately sunk. An inquest brings a verdict of \n",
    "suicide. However, Rebecca's first cousin and lover, Jack Favell, attempts to blackmail Maxim, claiming to have \n",
    "proof that she could not have intended suicide based on a note she sent to him the night she died. It is revealed \n",
    "that Rebecca had had an appointment with a doctor in London shortly before her death, presumably to confirm her \n",
    "pregnancy. When the doctor is found, he reveals that Rebecca had cancer and would have died within a few months. \n",
    "Furthermore, due to the malformation of her uterus, she could never have been pregnant. Maxim assumes that Rebecca, \n",
    "knowing that she would die, manipulated him into killing her quickly. Mrs Danvers had said after the inquiry that \n",
    "Rebecca feared nothing except dying a lingering death.\n",
    "\n",
    "Maxim feels a great sense of foreboding and insists on driving through the night to return to Manderley. However, \n",
    "before he comes in sight of the house, it is clear from a glow on the horizon and wind-borne ashes that it is \n",
    "ablaze.\n",
    "\"\"\""
   ]
  },
  {
   "cell_type": "code",
   "execution_count": 7,
   "id": "521e870a",
   "metadata": {},
   "outputs": [],
   "source": [
    "ps = PorterStemmer()\n",
    "wnl = WordNetLemmatizer()"
   ]
  },
  {
   "cell_type": "code",
   "execution_count": 14,
   "id": "a5ed2470",
   "metadata": {},
   "outputs": [
    {
     "data": {
      "text/plain": [
       "30"
      ]
     },
     "execution_count": 14,
     "metadata": {},
     "output_type": "execute_result"
    }
   ],
   "source": [
    "sentences = nltk.sent_tokenize(text)\n",
    "corpus_stem = []\n",
    "corpus_lemm =[]\n",
    "len(sentences)"
   ]
  },
  {
   "cell_type": "code",
   "execution_count": 15,
   "id": "9267d381",
   "metadata": {},
   "outputs": [
    {
     "data": {
      "text/plain": [
       "['work companion rich american woman holiday mont carlo unnam narrat na young woman earli becom acquaint wealthi englishman maxim de winter year old widow',\n",
       " 'fortnight courtship agre marri wed honeymoon accompani mansion cornwal beauti estat manderley',\n",
       " 'mr danver sinist housekeep profoundli devot first mr de winter rebecca die sail accid year maxim second mr de winter met',\n",
       " 'continu attempt undermin narrat psycholog subtli suggest never attain beauti urban charm predecessor possess',\n",
       " 'whenev narrat attempt make chang manderley mr danver describ rebecca ran aliv',\n",
       " 'cow mr danver impos manner member west countri societi unwav rever rebecca narrat becom isol',\n",
       " 'narrat soon convinc maxim regret impetu decis marri still deepli love seemingli perfect rebecca',\n",
       " 'attempt pleas reviv manderley costum ball custom rebecca instat help mr danver',\n",
       " 'suggest narrat wear replica dress shown portrait one hous former inhabit ignor fact rebecca worn costum much acclaim shortli death',\n",
       " 'narrat enter hall maxim see dress angrili order chang',\n",
       " 'shortli ball mr danver reveal contempt narrat believ tri replac rebecca reveal deep unhealthi obsess dead woman',\n",
       " 'mr danver tri get narrat commit suicid encourag jump window',\n",
       " 'howev interrupt narrat disturb caus nearbi shipwreck',\n",
       " 'diver investig wreck ship hull condit also discov remain rebecca sail boat decompos bodi still board despit maxim identifi anoth bodi wash ashor shortli rebecca death',\n",
       " 'discoveri caus maxim confess narrat marriag rebecca sham',\n",
       " 'rebecca maxim reveal cruel selfish woman manipul everyon around believ perfect wife paragon virtu',\n",
       " 'night death told maxim pregnant anoth man child would rais pretens maxim would powerless stop',\n",
       " 'rage maxim shot kill',\n",
       " 'dispos bodi place boat sink sea',\n",
       " 'narrat reliev hear maxim alway love never rebecca',\n",
       " 'rebecca boat rais discov deliber sunk',\n",
       " 'inquest bring verdict suicid',\n",
       " 'howev rebecca first cousin lover jack favel attempt blackmail maxim claim proof could intend suicid base note sent night die',\n",
       " 'reveal rebecca appoint doctor london shortli death presum confirm pregnanc',\n",
       " 'doctor found reveal rebecca cancer would die within month',\n",
       " 'furthermor due malform uteru could never pregnant',\n",
       " 'maxim assum rebecca know would die manipul kill quickli',\n",
       " 'mr danver said inquiri rebecca fear noth except die linger death',\n",
       " 'maxim feel great sens forebod insist drive night return manderley',\n",
       " 'howev come sight hous clear glow horizon wind born ash ablaz']"
      ]
     },
     "execution_count": 15,
     "metadata": {},
     "output_type": "execute_result"
    }
   ],
   "source": [
    "# Stemming\n",
    "for i in range(len(sentences)):\n",
    "    rev = re.sub('[^a-zA-Z]', ' ', sentences[i]) #removing special characters, punctuation\n",
    "    rev = rev.lower() #changing to lowercase\n",
    "    rev = rev.split()\n",
    "    rev = [ps.stem(wrd) for wrd in rev if wrd not in set(stopwords.words('english'))]\n",
    "    rev = ' '.join(rev)\n",
    "    corpus_stem.append(rev)\n",
    "    \n",
    "corpus_stem"
   ]
  },
  {
   "cell_type": "code",
   "execution_count": 16,
   "id": "2f805e4b",
   "metadata": {},
   "outputs": [
    {
     "data": {
      "text/plain": [
       "['working companion rich american woman holiday monte carlo unnamed narrator na young woman early becomes acquainted wealthy englishman maxim de winter year old widower',\n",
       " 'fortnight courtship agrees marry wedding honeymoon accompanies mansion cornwall beautiful estate manderley',\n",
       " 'mr danvers sinister housekeeper profoundly devoted first mr de winter rebecca died sailing accident year maxim second mr de winter met',\n",
       " 'continually attempt undermine narrator psychologically subtly suggesting never attain beauty urbanity charm predecessor possessed',\n",
       " 'whenever narrator attempt make change manderley mr danvers describes rebecca ran alive',\n",
       " 'cowed mr danvers imposing manner member west country society unwavering reverence rebecca narrator becomes isolated',\n",
       " 'narrator soon convinced maxim regret impetuous decision marry still deeply love seemingly perfect rebecca',\n",
       " 'attempt please revives manderley costume ball custom rebecca instated help mr danvers',\n",
       " 'suggestion narrator wear replica dress shown portrait one house former inhabitant ignorant fact rebecca worn costume much acclaim shortly death',\n",
       " 'narrator enters hall maxim see dress angrily order change',\n",
       " 'shortly ball mr danvers reveals contempt narrator believing trying replace rebecca reveals deep unhealthy obsession dead woman',\n",
       " 'mr danvers try get narrator commit suicide encouraging jump window',\n",
       " 'however interrupted narrator disturbance caused nearby shipwreck',\n",
       " 'diver investigating wrecked ship hull condition also discovers remains rebecca sailing boat decomposed body still board despite maxim identified another body washed ashore shortly rebecca death',\n",
       " 'discovery cause maxim confess narrator marriage rebecca sham',\n",
       " 'rebecca maxim reveals cruel selfish woman manipulated everyone around believing perfect wife paragon virtue',\n",
       " 'night death told maxim pregnant another man child would raise pretense maxim would powerless stop',\n",
       " 'rage maxim shot killed',\n",
       " 'disposed body placing boat sinking sea',\n",
       " 'narrator relieved hear maxim always loved never rebecca',\n",
       " 'rebecca boat raised discovered deliberately sunk',\n",
       " 'inquest brings verdict suicide',\n",
       " 'however rebecca first cousin lover jack favell attempt blackmail maxim claiming proof could intended suicide based note sent night died',\n",
       " 'revealed rebecca appointment doctor london shortly death presumably confirm pregnancy',\n",
       " 'doctor found reveals rebecca cancer would died within month',\n",
       " 'furthermore due malformation uterus could never pregnant',\n",
       " 'maxim assumes rebecca knowing would die manipulated killing quickly',\n",
       " 'mr danvers said inquiry rebecca feared nothing except dying lingering death',\n",
       " 'maxim feel great sense foreboding insists driving night return manderley',\n",
       " 'however come sight house clear glow horizon wind borne ash ablaze']"
      ]
     },
     "execution_count": 16,
     "metadata": {},
     "output_type": "execute_result"
    }
   ],
   "source": [
    "# Lemmatization\n",
    "for i in range(len(sentences)):\n",
    "    rev = re.sub('[^a-zA-Z]', ' ', sentences[i]) #removing special characters, punctuation\n",
    "    rev = rev.lower() #changing to lowercase\n",
    "    rev = rev.split()\n",
    "    rev = [wnl.lemmatize(wrd) for wrd in rev if wrd not in set(stopwords.words('english'))]\n",
    "    rev = ' '.join(rev)\n",
    "    corpus_lemm.append(rev)\n",
    "    \n",
    "corpus_lemm"
   ]
  },
  {
   "cell_type": "code",
   "execution_count": 17,
   "id": "05bc724e",
   "metadata": {},
   "outputs": [],
   "source": [
    "#Creating Bag of Words model\n",
    "from sklearn.feature_extraction.text import CountVectorizer\n",
    "\n",
    "cv = CountVectorizer()\n",
    "x_stem = cv.fit_transform(corpus_stem).toarray()\n",
    "x_lemm = cv.fit_transform(corpus_lemm).toarray()"
   ]
  },
  {
   "cell_type": "code",
   "execution_count": 21,
   "id": "863395f6",
   "metadata": {},
   "outputs": [
    {
     "data": {
      "text/plain": [
       "array([[0, 0, 0, ..., 0, 1, 1],\n",
       "       [0, 0, 0, ..., 0, 0, 0],\n",
       "       [0, 1, 0, ..., 0, 1, 0],\n",
       "       ...,\n",
       "       [0, 0, 0, ..., 0, 0, 0],\n",
       "       [0, 0, 0, ..., 0, 0, 0],\n",
       "       [1, 0, 0, ..., 0, 0, 0]])"
      ]
     },
     "execution_count": 21,
     "metadata": {},
     "output_type": "execute_result"
    }
   ],
   "source": [
    "x_stem"
   ]
  },
  {
   "cell_type": "code",
   "execution_count": 22,
   "id": "9a84b675",
   "metadata": {},
   "outputs": [
    {
     "data": {
      "text/plain": [
       "array([[0, 0, 0, ..., 0, 1, 1],\n",
       "       [0, 0, 0, ..., 0, 0, 0],\n",
       "       [0, 1, 0, ..., 0, 1, 0],\n",
       "       ...,\n",
       "       [0, 0, 0, ..., 0, 0, 0],\n",
       "       [0, 0, 0, ..., 0, 0, 0],\n",
       "       [1, 0, 0, ..., 0, 0, 0]])"
      ]
     },
     "execution_count": 22,
     "metadata": {},
     "output_type": "execute_result"
    }
   ],
   "source": [
    "x_lemm"
   ]
  }
 ],
 "metadata": {
  "kernelspec": {
   "display_name": "Python 3 (ipykernel)",
   "language": "python",
   "name": "python3"
  },
  "language_info": {
   "codemirror_mode": {
    "name": "ipython",
    "version": 3
   },
   "file_extension": ".py",
   "mimetype": "text/x-python",
   "name": "python",
   "nbconvert_exporter": "python",
   "pygments_lexer": "ipython3",
   "version": "3.10.10"
  }
 },
 "nbformat": 4,
 "nbformat_minor": 5
}
