{
 "cells": [
  {
   "cell_type": "code",
   "execution_count": 1,
   "id": "874ff428",
   "metadata": {},
   "outputs": [],
   "source": [
    "import re\n",
    "import nltk\n",
    "from gensim.models import Word2Vec\n",
    "from nltk.corpus import stopwords"
   ]
  },
  {
   "cell_type": "code",
   "execution_count": 2,
   "id": "2274895d",
   "metadata": {},
   "outputs": [],
   "source": [
    "para = \"\"\"While working as the companion to a rich American woman on holiday in Monte Carlo, the unnamed narrator, \n",
    "a naïve young woman in her early 20s, becomes acquainted with a wealthy Englishman, Maxim de Winter, a \n",
    "42-year-old widower. After a fortnight of courtship, she agrees to marry him and, after the wedding and honeymoon, \n",
    "accompanies him to his mansion in Cornwall, the beautiful estate Manderley.\n",
    "\n",
    "Mrs Danvers, the sinister housekeeper, was profoundly devoted to the first Mrs de Winter, Rebecca, who died in a \n",
    "sailing accident about a year before Maxim and the second Mrs de Winter met. She continually attempts to undermine \n",
    "the narrator psychologically, subtly suggesting to her that she will never attain the beauty, urbanity, and charm \n",
    "her predecessor possessed. Whenever the narrator attempts to make changes at Manderley, Mrs Danvers describes how \n",
    "Rebecca ran it when she was alive. Cowed by Mrs Danvers' imposing manner and the other members of West Country \n",
    "society's unwavering reverence for Rebecca, the narrator becomes isolated.\n",
    "\n",
    "The narrator is soon convinced that Maxim regrets his impetuous decision to marry her and is still deeply in love \n",
    "with the seemingly perfect Rebecca. In an attempt to please him, she revives the Manderley costume ball, a custom \n",
    "Rebecca had instated, with the help of Mrs Danvers. On her suggestion, the narrator wears a replica of the dress \n",
    "shown in a portrait of one of the house's former inhabitants, ignorant of the fact that Rebecca had worn the same \n",
    "costume to much acclaim shortly before her death. When the narrator enters the hall and Maxim sees the dress, he \n",
    "angrily orders her to change.\n",
    "\n",
    "Shortly after the ball, Mrs Danvers reveals her contempt for the narrator, believing she is trying to replace \n",
    "Rebecca, and reveals her deep, unhealthy obsession with the dead woman. Mrs Danvers tries to get the narrator to \n",
    "commit suicide by encouraging her to jump out of the window. However, she is interrupted before the narrator does \n",
    "so by the disturbance caused by a nearby shipwreck. A diver investigating the wrecked ship's hull condition also \n",
    "discovers the remains of Rebecca's sailing boat, with her decomposed body still on board, despite Maxim having \n",
    "identified another body that had washed ashore shortly after Rebecca's death.\n",
    "\n",
    "This discovery causes Maxim to confess to the narrator that his marriage to Rebecca was a sham. Rebecca, Maxim \n",
    "reveals, was a cruel and selfish woman who manipulated everyone around her into believing her to be the perfect \n",
    "wife and a paragon of virtue. On the night of her death, she told Maxim that she was pregnant with another man's \n",
    "child, which she would raise under the pretense that it was Maxim's, and he would be powerless to stop her. In a \n",
    "rage Maxim shot and killed her. He then disposed of her body by placing it in her boat and sinking it at sea. The \n",
    "narrator is relieved to hear that Maxim has always loved her and never Rebecca.\n",
    "\n",
    "Rebecca's boat is raised, and it is discovered to have been deliberately sunk. An inquest brings a verdict of \n",
    "suicide. However, Rebecca's first cousin and lover, Jack Favell, attempts to blackmail Maxim, claiming to have \n",
    "proof that she could not have intended suicide based on a note she sent to him the night she died. It is revealed \n",
    "that Rebecca had had an appointment with a doctor in London shortly before her death, presumably to confirm her \n",
    "pregnancy. When the doctor is found, he reveals that Rebecca had cancer and would have died within a few months. \n",
    "Furthermore, due to the malformation of her uterus, she could never have been pregnant. Maxim assumes that Rebecca, \n",
    "knowing that she would die, manipulated him into killing her quickly. Mrs Danvers had said after the inquiry that \n",
    "Rebecca feared nothing except dying a lingering death.\n",
    "\n",
    "Maxim feels a great sense of foreboding and insists on driving through the night to return to Manderley. However, \n",
    "before he comes in sight of the house, it is clear from a glow on the horizon and wind-borne ashes that it is \n",
    "ablaze.\"\"\""
   ]
  },
  {
   "cell_type": "code",
   "execution_count": 27,
   "id": "b5672f34",
   "metadata": {},
   "outputs": [],
   "source": [
    "# text preprocessing\n",
    "\n",
    "text = re.sub(r'\\[[0-9]*\\]',' ',para)\n",
    "text = re.sub('[^a-zA-Z]', ' ', text)\n",
    "text = re.sub(r'\\s+',' ',text)\n",
    "text = text.lower()\n",
    "text = re.sub(r'\\d',' ',text)\n",
    "text = re.sub(r'\\s+',' ',text)"
   ]
  },
  {
   "cell_type": "code",
   "execution_count": 28,
   "id": "a19da244",
   "metadata": {},
   "outputs": [],
   "source": [
    "sentences = nltk.sent_tokenize(text)\n",
    "sentences = [nltk.word_tokenize(sentence) for sentence in sentences]"
   ]
  },
  {
   "cell_type": "code",
   "execution_count": 29,
   "id": "ca6276ac",
   "metadata": {},
   "outputs": [],
   "source": [
    "for i in range(len(sentences)):\n",
    "    sentences[i] = [word for word in sentences[i] if word not in stopwords.words('english')]\n"
   ]
  },
  {
   "cell_type": "code",
   "execution_count": 33,
   "id": "16154350",
   "metadata": {},
   "outputs": [
    {
     "data": {
      "text/plain": [
       "6"
      ]
     },
     "execution_count": 33,
     "metadata": {},
     "output_type": "execute_result"
    }
   ],
   "source": [
    "# Training the Word2Vec model\n",
    "model = Word2Vec(sentences, min_count=5)\n",
    "\n",
    "words = model.wv.key_to_index.keys()\n",
    "len(model.wv)"
   ]
  },
  {
   "cell_type": "code",
   "execution_count": 36,
   "id": "955ab0cb",
   "metadata": {},
   "outputs": [
    {
     "name": "stdout",
     "output_type": "stream",
     "text": [
      "danvers  :  7\n"
     ]
    }
   ],
   "source": [
    "# Finding Word Vectors\n",
    "wrd = \"danvers\"\n",
    "try:\n",
    "    print(wrd, \" : \", model.wv.get_vecattr(wrd, \"count\"))\n",
    "except:\n",
    "    print(\"The word '\", wrd, \"' is not found!\")"
   ]
  },
  {
   "cell_type": "code",
   "execution_count": 35,
   "id": "e8a60e07",
   "metadata": {},
   "outputs": [
    {
     "name": "stdout",
     "output_type": "stream",
     "text": [
      "rebecca  :  [('maxim', 0.008663037791848183), ('danvers', -0.01974048651754856), ('narrator', -0.04211430251598358), ('death', -0.050509266555309296), ('mrs', -0.0877176895737648)]\n"
     ]
    }
   ],
   "source": [
    "# Most similar words\n",
    "similar = \"rebecca\"\n",
    "try:\n",
    "    print(similar, \" : \", model.wv.most_similar(similar))\n",
    "except:\n",
    "    print(\"The word '\", similar, \"' has no similar words!\")"
   ]
  },
  {
   "cell_type": "code",
   "execution_count": null,
   "id": "7f87206a",
   "metadata": {},
   "outputs": [],
   "source": []
  }
 ],
 "metadata": {
  "kernelspec": {
   "display_name": "Python 3 (ipykernel)",
   "language": "python",
   "name": "python3"
  },
  "language_info": {
   "codemirror_mode": {
    "name": "ipython",
    "version": 3
   },
   "file_extension": ".py",
   "mimetype": "text/x-python",
   "name": "python",
   "nbconvert_exporter": "python",
   "pygments_lexer": "ipython3",
   "version": "3.10.10"
  }
 },
 "nbformat": 4,
 "nbformat_minor": 5
}
